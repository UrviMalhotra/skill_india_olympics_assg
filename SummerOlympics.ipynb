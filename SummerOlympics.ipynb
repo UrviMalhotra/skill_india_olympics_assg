{
  "nbformat": 4,
  "nbformat_minor": 0,
  "metadata": {
    "colab": {
      "name": "SummerOlympics.ipynb",
      "provenance": [],
      "collapsed_sections": [],
      "authorship_tag": "ABX9TyP8blijKomphOQXIe3lPM3i",
      "include_colab_link": true
    },
    "kernelspec": {
      "name": "python3",
      "display_name": "Python 3"
    },
    "language_info": {
      "name": "python"
    }
  },
  "cells": [
    {
      "cell_type": "markdown",
      "metadata": {
        "id": "view-in-github",
        "colab_type": "text"
      },
      "source": [
        "<a href=\"https://colab.research.google.com/github/UrviMalhotra/skill_india_olympics_assg/blob/main/SummerOlympics.ipynb\" target=\"_parent\"><img src=\"https://colab.research.google.com/assets/colab-badge.svg\" alt=\"Open In Colab\"/></a>"
      ]
    },
    {
      "cell_type": "markdown",
      "metadata": {
        "id": "iXvfoyPzVh19"
      },
      "source": [
        "#Summer Olympics Data Analysis Assignment"
      ]
    },
    {
      "cell_type": "markdown",
      "metadata": {
        "id": "HcAe4QZ2VrqB"
      },
      "source": [
        "###1. In how many cities Summer Olympics is held so far?"
      ]
    },
    {
      "cell_type": "code",
      "metadata": {
        "id": "xzZLvtf7VgSZ"
      },
      "source": [
        "import pandas as pd\n",
        "import matplotlib.pyplot as plt"
      ],
      "execution_count": null,
      "outputs": []
    },
    {
      "cell_type": "code",
      "metadata": {
        "id": "1QukPfqUWHKf"
      },
      "source": [
        "df = pd.read_csv(\"summer.csv\")"
      ],
      "execution_count": null,
      "outputs": []
    },
    {
      "cell_type": "code",
      "metadata": {
        "colab": {
          "base_uri": "https://localhost:8080/",
          "height": 423
        },
        "id": "WPyazI1faH0s",
        "outputId": "cb9952c7-83ed-45ea-b7cb-d1e5fbd69241"
      },
      "source": [
        "df"
      ],
      "execution_count": null,
      "outputs": [
        {
          "output_type": "execute_result",
          "data": {
            "text/html": [
              "<div>\n",
              "<style scoped>\n",
              "    .dataframe tbody tr th:only-of-type {\n",
              "        vertical-align: middle;\n",
              "    }\n",
              "\n",
              "    .dataframe tbody tr th {\n",
              "        vertical-align: top;\n",
              "    }\n",
              "\n",
              "    .dataframe thead th {\n",
              "        text-align: right;\n",
              "    }\n",
              "</style>\n",
              "<table border=\"1\" class=\"dataframe\">\n",
              "  <thead>\n",
              "    <tr style=\"text-align: right;\">\n",
              "      <th></th>\n",
              "      <th>Year</th>\n",
              "      <th>City</th>\n",
              "      <th>Sport</th>\n",
              "      <th>Discipline</th>\n",
              "      <th>Athlete</th>\n",
              "      <th>Country</th>\n",
              "      <th>Gender</th>\n",
              "      <th>Event</th>\n",
              "      <th>Medal</th>\n",
              "    </tr>\n",
              "  </thead>\n",
              "  <tbody>\n",
              "    <tr>\n",
              "      <th>0</th>\n",
              "      <td>1896</td>\n",
              "      <td>Athens</td>\n",
              "      <td>Aquatics</td>\n",
              "      <td>Swimming</td>\n",
              "      <td>HAJOS, Alfred</td>\n",
              "      <td>HUN</td>\n",
              "      <td>Men</td>\n",
              "      <td>100M Freestyle</td>\n",
              "      <td>Gold</td>\n",
              "    </tr>\n",
              "    <tr>\n",
              "      <th>1</th>\n",
              "      <td>1896</td>\n",
              "      <td>Athens</td>\n",
              "      <td>Aquatics</td>\n",
              "      <td>Swimming</td>\n",
              "      <td>HERSCHMANN, Otto</td>\n",
              "      <td>AUT</td>\n",
              "      <td>Men</td>\n",
              "      <td>100M Freestyle</td>\n",
              "      <td>Silver</td>\n",
              "    </tr>\n",
              "    <tr>\n",
              "      <th>2</th>\n",
              "      <td>1896</td>\n",
              "      <td>Athens</td>\n",
              "      <td>Aquatics</td>\n",
              "      <td>Swimming</td>\n",
              "      <td>DRIVAS, Dimitrios</td>\n",
              "      <td>GRE</td>\n",
              "      <td>Men</td>\n",
              "      <td>100M Freestyle For Sailors</td>\n",
              "      <td>Bronze</td>\n",
              "    </tr>\n",
              "    <tr>\n",
              "      <th>3</th>\n",
              "      <td>1896</td>\n",
              "      <td>Athens</td>\n",
              "      <td>Aquatics</td>\n",
              "      <td>Swimming</td>\n",
              "      <td>MALOKINIS, Ioannis</td>\n",
              "      <td>GRE</td>\n",
              "      <td>Men</td>\n",
              "      <td>100M Freestyle For Sailors</td>\n",
              "      <td>Gold</td>\n",
              "    </tr>\n",
              "    <tr>\n",
              "      <th>4</th>\n",
              "      <td>1896</td>\n",
              "      <td>Athens</td>\n",
              "      <td>Aquatics</td>\n",
              "      <td>Swimming</td>\n",
              "      <td>CHASAPIS, Spiridon</td>\n",
              "      <td>GRE</td>\n",
              "      <td>Men</td>\n",
              "      <td>100M Freestyle For Sailors</td>\n",
              "      <td>Silver</td>\n",
              "    </tr>\n",
              "    <tr>\n",
              "      <th>...</th>\n",
              "      <td>...</td>\n",
              "      <td>...</td>\n",
              "      <td>...</td>\n",
              "      <td>...</td>\n",
              "      <td>...</td>\n",
              "      <td>...</td>\n",
              "      <td>...</td>\n",
              "      <td>...</td>\n",
              "      <td>...</td>\n",
              "    </tr>\n",
              "    <tr>\n",
              "      <th>31160</th>\n",
              "      <td>2012</td>\n",
              "      <td>London</td>\n",
              "      <td>Wrestling</td>\n",
              "      <td>Wrestling Freestyle</td>\n",
              "      <td>JANIKOWSKI, Damian</td>\n",
              "      <td>POL</td>\n",
              "      <td>Men</td>\n",
              "      <td>Wg 84 KG</td>\n",
              "      <td>Bronze</td>\n",
              "    </tr>\n",
              "    <tr>\n",
              "      <th>31161</th>\n",
              "      <td>2012</td>\n",
              "      <td>London</td>\n",
              "      <td>Wrestling</td>\n",
              "      <td>Wrestling Freestyle</td>\n",
              "      <td>REZAEI, Ghasem Gholamreza</td>\n",
              "      <td>IRI</td>\n",
              "      <td>Men</td>\n",
              "      <td>Wg 96 KG</td>\n",
              "      <td>Gold</td>\n",
              "    </tr>\n",
              "    <tr>\n",
              "      <th>31162</th>\n",
              "      <td>2012</td>\n",
              "      <td>London</td>\n",
              "      <td>Wrestling</td>\n",
              "      <td>Wrestling Freestyle</td>\n",
              "      <td>TOTROV, Rustam</td>\n",
              "      <td>RUS</td>\n",
              "      <td>Men</td>\n",
              "      <td>Wg 96 KG</td>\n",
              "      <td>Silver</td>\n",
              "    </tr>\n",
              "    <tr>\n",
              "      <th>31163</th>\n",
              "      <td>2012</td>\n",
              "      <td>London</td>\n",
              "      <td>Wrestling</td>\n",
              "      <td>Wrestling Freestyle</td>\n",
              "      <td>ALEKSANYAN, Artur</td>\n",
              "      <td>ARM</td>\n",
              "      <td>Men</td>\n",
              "      <td>Wg 96 KG</td>\n",
              "      <td>Bronze</td>\n",
              "    </tr>\n",
              "    <tr>\n",
              "      <th>31164</th>\n",
              "      <td>2012</td>\n",
              "      <td>London</td>\n",
              "      <td>Wrestling</td>\n",
              "      <td>Wrestling Freestyle</td>\n",
              "      <td>LIDBERG, Jimmy</td>\n",
              "      <td>SWE</td>\n",
              "      <td>Men</td>\n",
              "      <td>Wg 96 KG</td>\n",
              "      <td>Bronze</td>\n",
              "    </tr>\n",
              "  </tbody>\n",
              "</table>\n",
              "<p>31165 rows × 9 columns</p>\n",
              "</div>"
            ],
            "text/plain": [
              "       Year    City      Sport  ... Gender                       Event   Medal\n",
              "0      1896  Athens   Aquatics  ...    Men              100M Freestyle    Gold\n",
              "1      1896  Athens   Aquatics  ...    Men              100M Freestyle  Silver\n",
              "2      1896  Athens   Aquatics  ...    Men  100M Freestyle For Sailors  Bronze\n",
              "3      1896  Athens   Aquatics  ...    Men  100M Freestyle For Sailors    Gold\n",
              "4      1896  Athens   Aquatics  ...    Men  100M Freestyle For Sailors  Silver\n",
              "...     ...     ...        ...  ...    ...                         ...     ...\n",
              "31160  2012  London  Wrestling  ...    Men                    Wg 84 KG  Bronze\n",
              "31161  2012  London  Wrestling  ...    Men                    Wg 96 KG    Gold\n",
              "31162  2012  London  Wrestling  ...    Men                    Wg 96 KG  Silver\n",
              "31163  2012  London  Wrestling  ...    Men                    Wg 96 KG  Bronze\n",
              "31164  2012  London  Wrestling  ...    Men                    Wg 96 KG  Bronze\n",
              "\n",
              "[31165 rows x 9 columns]"
            ]
          },
          "metadata": {},
          "execution_count": 54
        }
      ]
    },
    {
      "cell_type": "code",
      "metadata": {
        "colab": {
          "base_uri": "https://localhost:8080/"
        },
        "id": "lMAw7dhraqf-",
        "outputId": "81d20d2a-3770-4151-c883-a53659e6fdbd"
      },
      "source": [
        "len(df['City'].unique())"
      ],
      "execution_count": null,
      "outputs": [
        {
          "output_type": "execute_result",
          "data": {
            "text/plain": [
              "22"
            ]
          },
          "metadata": {},
          "execution_count": 55
        }
      ]
    },
    {
      "cell_type": "markdown",
      "metadata": {
        "id": "YvffICxba4BI"
      },
      "source": [
        "###2. Which sport is having most number of Gold Medals so far? (Top 5)"
      ]
    },
    {
      "cell_type": "code",
      "metadata": {
        "id": "yksM4Rsga67l"
      },
      "source": [
        "df=df[df['Medal'] == 'Gold']"
      ],
      "execution_count": null,
      "outputs": []
    },
    {
      "cell_type": "code",
      "metadata": {
        "colab": {
          "base_uri": "https://localhost:8080/",
          "height": 423
        },
        "id": "AMQ1IXrUsZKD",
        "outputId": "dd9b7fa1-bbfc-460b-ea73-90468e088d7a"
      },
      "source": [
        "df"
      ],
      "execution_count": null,
      "outputs": [
        {
          "output_type": "execute_result",
          "data": {
            "text/html": [
              "<div>\n",
              "<style scoped>\n",
              "    .dataframe tbody tr th:only-of-type {\n",
              "        vertical-align: middle;\n",
              "    }\n",
              "\n",
              "    .dataframe tbody tr th {\n",
              "        vertical-align: top;\n",
              "    }\n",
              "\n",
              "    .dataframe thead th {\n",
              "        text-align: right;\n",
              "    }\n",
              "</style>\n",
              "<table border=\"1\" class=\"dataframe\">\n",
              "  <thead>\n",
              "    <tr style=\"text-align: right;\">\n",
              "      <th></th>\n",
              "      <th>Year</th>\n",
              "      <th>City</th>\n",
              "      <th>Sport</th>\n",
              "      <th>Discipline</th>\n",
              "      <th>Athlete</th>\n",
              "      <th>Country</th>\n",
              "      <th>Gender</th>\n",
              "      <th>Event</th>\n",
              "      <th>Medal</th>\n",
              "    </tr>\n",
              "  </thead>\n",
              "  <tbody>\n",
              "    <tr>\n",
              "      <th>0</th>\n",
              "      <td>1896</td>\n",
              "      <td>Athens</td>\n",
              "      <td>Aquatics</td>\n",
              "      <td>Swimming</td>\n",
              "      <td>HAJOS, Alfred</td>\n",
              "      <td>HUN</td>\n",
              "      <td>Men</td>\n",
              "      <td>100M Freestyle</td>\n",
              "      <td>Gold</td>\n",
              "    </tr>\n",
              "    <tr>\n",
              "      <th>3</th>\n",
              "      <td>1896</td>\n",
              "      <td>Athens</td>\n",
              "      <td>Aquatics</td>\n",
              "      <td>Swimming</td>\n",
              "      <td>MALOKINIS, Ioannis</td>\n",
              "      <td>GRE</td>\n",
              "      <td>Men</td>\n",
              "      <td>100M Freestyle For Sailors</td>\n",
              "      <td>Gold</td>\n",
              "    </tr>\n",
              "    <tr>\n",
              "      <th>6</th>\n",
              "      <td>1896</td>\n",
              "      <td>Athens</td>\n",
              "      <td>Aquatics</td>\n",
              "      <td>Swimming</td>\n",
              "      <td>HAJOS, Alfred</td>\n",
              "      <td>HUN</td>\n",
              "      <td>Men</td>\n",
              "      <td>1200M Freestyle</td>\n",
              "      <td>Gold</td>\n",
              "    </tr>\n",
              "    <tr>\n",
              "      <th>9</th>\n",
              "      <td>1896</td>\n",
              "      <td>Athens</td>\n",
              "      <td>Aquatics</td>\n",
              "      <td>Swimming</td>\n",
              "      <td>NEUMANN, Paul</td>\n",
              "      <td>AUT</td>\n",
              "      <td>Men</td>\n",
              "      <td>400M Freestyle</td>\n",
              "      <td>Gold</td>\n",
              "    </tr>\n",
              "    <tr>\n",
              "      <th>13</th>\n",
              "      <td>1896</td>\n",
              "      <td>Athens</td>\n",
              "      <td>Athletics</td>\n",
              "      <td>Athletics</td>\n",
              "      <td>BURKE, Thomas</td>\n",
              "      <td>USA</td>\n",
              "      <td>Men</td>\n",
              "      <td>100M</td>\n",
              "      <td>Gold</td>\n",
              "    </tr>\n",
              "    <tr>\n",
              "      <th>...</th>\n",
              "      <td>...</td>\n",
              "      <td>...</td>\n",
              "      <td>...</td>\n",
              "      <td>...</td>\n",
              "      <td>...</td>\n",
              "      <td>...</td>\n",
              "      <td>...</td>\n",
              "      <td>...</td>\n",
              "      <td>...</td>\n",
              "    </tr>\n",
              "    <tr>\n",
              "      <th>31145</th>\n",
              "      <td>2012</td>\n",
              "      <td>London</td>\n",
              "      <td>Wrestling</td>\n",
              "      <td>Wrestling Freestyle</td>\n",
              "      <td>NOROOZI, Omid Haji</td>\n",
              "      <td>IRI</td>\n",
              "      <td>Men</td>\n",
              "      <td>Wg 60 KG</td>\n",
              "      <td>Gold</td>\n",
              "    </tr>\n",
              "    <tr>\n",
              "      <th>31149</th>\n",
              "      <td>2012</td>\n",
              "      <td>London</td>\n",
              "      <td>Wrestling</td>\n",
              "      <td>Wrestling Freestyle</td>\n",
              "      <td>KIM, Hyeonwoo</td>\n",
              "      <td>KOR</td>\n",
              "      <td>Men</td>\n",
              "      <td>Wg 66 KG</td>\n",
              "      <td>Gold</td>\n",
              "    </tr>\n",
              "    <tr>\n",
              "      <th>31153</th>\n",
              "      <td>2012</td>\n",
              "      <td>London</td>\n",
              "      <td>Wrestling</td>\n",
              "      <td>Wrestling Freestyle</td>\n",
              "      <td>VLASOV, Roman</td>\n",
              "      <td>RUS</td>\n",
              "      <td>Men</td>\n",
              "      <td>Wg 74 KG</td>\n",
              "      <td>Gold</td>\n",
              "    </tr>\n",
              "    <tr>\n",
              "      <th>31157</th>\n",
              "      <td>2012</td>\n",
              "      <td>London</td>\n",
              "      <td>Wrestling</td>\n",
              "      <td>Wrestling Freestyle</td>\n",
              "      <td>KHUGAEV, Alan</td>\n",
              "      <td>RUS</td>\n",
              "      <td>Men</td>\n",
              "      <td>Wg 84 KG</td>\n",
              "      <td>Gold</td>\n",
              "    </tr>\n",
              "    <tr>\n",
              "      <th>31161</th>\n",
              "      <td>2012</td>\n",
              "      <td>London</td>\n",
              "      <td>Wrestling</td>\n",
              "      <td>Wrestling Freestyle</td>\n",
              "      <td>REZAEI, Ghasem Gholamreza</td>\n",
              "      <td>IRI</td>\n",
              "      <td>Men</td>\n",
              "      <td>Wg 96 KG</td>\n",
              "      <td>Gold</td>\n",
              "    </tr>\n",
              "  </tbody>\n",
              "</table>\n",
              "<p>10486 rows × 9 columns</p>\n",
              "</div>"
            ],
            "text/plain": [
              "       Year    City      Sport  ... Gender                       Event Medal\n",
              "0      1896  Athens   Aquatics  ...    Men              100M Freestyle  Gold\n",
              "3      1896  Athens   Aquatics  ...    Men  100M Freestyle For Sailors  Gold\n",
              "6      1896  Athens   Aquatics  ...    Men             1200M Freestyle  Gold\n",
              "9      1896  Athens   Aquatics  ...    Men              400M Freestyle  Gold\n",
              "13     1896  Athens  Athletics  ...    Men                        100M  Gold\n",
              "...     ...     ...        ...  ...    ...                         ...   ...\n",
              "31145  2012  London  Wrestling  ...    Men                    Wg 60 KG  Gold\n",
              "31149  2012  London  Wrestling  ...    Men                    Wg 66 KG  Gold\n",
              "31153  2012  London  Wrestling  ...    Men                    Wg 74 KG  Gold\n",
              "31157  2012  London  Wrestling  ...    Men                    Wg 84 KG  Gold\n",
              "31161  2012  London  Wrestling  ...    Men                    Wg 96 KG  Gold\n",
              "\n",
              "[10486 rows x 9 columns]"
            ]
          },
          "metadata": {},
          "execution_count": 24
        }
      ]
    },
    {
      "cell_type": "code",
      "metadata": {
        "id": "iEu_qFvzeEi3"
      },
      "source": [
        "data = df.values"
      ],
      "execution_count": null,
      "outputs": []
    },
    {
      "cell_type": "code",
      "metadata": {
        "id": "XSSRZYqKb2g_"
      },
      "source": [
        "lst=[]\n",
        "for sport in df['Sport'].unique():\n",
        "  ct=0\n",
        "  for i in range(len(data)):\n",
        "    if(data[i][2]==sport):\n",
        "      ct+=1\n",
        "  lst.append([sport,ct])\n",
        "  \n",
        "  "
      ],
      "execution_count": null,
      "outputs": []
    },
    {
      "cell_type": "code",
      "metadata": {
        "colab": {
          "base_uri": "https://localhost:8080/"
        },
        "id": "HBs7TKd6vD4i",
        "outputId": "411d5359-4d8c-4a2b-a27a-62e9f56531b6"
      },
      "source": [
        "len(data)"
      ],
      "execution_count": null,
      "outputs": [
        {
          "output_type": "execute_result",
          "data": {
            "text/plain": [
              "10486"
            ]
          },
          "metadata": {},
          "execution_count": 62
        }
      ]
    },
    {
      "cell_type": "code",
      "metadata": {
        "colab": {
          "base_uri": "https://localhost:8080/"
        },
        "id": "XP0xuYcPtvej",
        "outputId": "4e6d3304-eaf1-49c2-d481-cf8ce2079b2a"
      },
      "source": [
        "lst"
      ],
      "execution_count": null,
      "outputs": [
        {
          "output_type": "execute_result",
          "data": {
            "text/plain": [
              "[['Aquatics', 1421],\n",
              " ['Athletics', 1215],\n",
              " ['Cycling', 371],\n",
              " ['Fencing', 552],\n",
              " ['Gymnastics', 820],\n",
              " ['Shooting', 384],\n",
              " ['Tennis', 92],\n",
              " ['Weightlifting', 200],\n",
              " ['Wrestling', 391],\n",
              " ['Archery', 126],\n",
              " ['Basque Pelota', 2],\n",
              " ['Cricket', 12],\n",
              " ['Croquet', 4],\n",
              " ['Equestrian', 320],\n",
              " ['Football', 503],\n",
              " ['Golf', 13],\n",
              " ['Polo', 22],\n",
              " ['Rowing', 890],\n",
              " ['Rugby', 78],\n",
              " ['Sailing', 412],\n",
              " ['Tug of War', 36],\n",
              " ['Boxing', 239],\n",
              " ['Lacrosse', 28],\n",
              " ['Roque', 1],\n",
              " ['Hockey', 486],\n",
              " ['Jeu de paume', 1],\n",
              " ['Rackets', 3],\n",
              " ['Skating', 9],\n",
              " ['Water Motorsports', 5],\n",
              " ['Modern Pentathlon', 60],\n",
              " ['Ice Hockey', 8],\n",
              " ['Basketball', 342],\n",
              " ['Canoe / Kayak', 334],\n",
              " ['Handball', 321],\n",
              " ['Judo', 123],\n",
              " ['Volleyball', 332],\n",
              " ['Table Tennis', 46],\n",
              " ['Badminton', 46],\n",
              " ['Baseball', 111],\n",
              " ['Softball', 60],\n",
              " ['Taekwondo', 32],\n",
              " ['Triathlon', 8],\n",
              " ['Canoe', 27]]"
            ]
          },
          "metadata": {},
          "execution_count": 63
        }
      ]
    },
    {
      "cell_type": "code",
      "metadata": {
        "colab": {
          "base_uri": "https://localhost:8080/",
          "height": 399
        },
        "id": "A1pH3qw3vpte",
        "outputId": "34323d04-dadd-4140-dd99-f90929558acc"
      },
      "source": [
        "pd.DataFrame(lst, columns=['Sport', 'ct']).sort_values(by='ct', ascending=False).head().plot(x='Sport',y='ct',kind='bar',figsize=(15,5))"
      ],
      "execution_count": null,
      "outputs": [
        {
          "output_type": "execute_result",
          "data": {
            "text/plain": [
              "<matplotlib.axes._subplots.AxesSubplot at 0x7f8d8da0cd10>"
            ]
          },
          "metadata": {},
          "execution_count": 64
        },
        {
          "output_type": "display_data",
          "data": {
            "image/png": "[encoded data removed]",
            "text/plain": [
              "<Figure size 1080x360 with 1 Axes>"
            ]
          },
          "metadata": {
            "needs_background": "light"
          }
        }
      ]
    },
    {
      "cell_type": "markdown",
      "metadata": {
        "id": "6hrFS6jyxy9n"
      },
      "source": [
        "###3. Which sport is having most number of medals so far? (Top 5)"
      ]
    },
    {
      "cell_type": "code",
      "metadata": {
        "id": "dlyJgKBTx4Yh"
      },
      "source": [
        "df = pd.read_csv(\"summer.csv\")"
      ],
      "execution_count": null,
      "outputs": []
    },
    {
      "cell_type": "code",
      "metadata": {
        "id": "IX6D59enyLIv"
      },
      "source": [
        "data = df.values"
      ],
      "execution_count": null,
      "outputs": []
    },
    {
      "cell_type": "code",
      "metadata": {
        "id": "Vy0B2UHJyMxu"
      },
      "source": [
        "lst=[]\n",
        "for sport in df['Sport'].unique():\n",
        "  ct=0\n",
        "  for i in range(len(data)):\n",
        "    if(data[i][2]==sport):\n",
        "      ct+=1\n",
        "  lst.append([sport,ct])"
      ],
      "execution_count": null,
      "outputs": []
    },
    {
      "cell_type": "code",
      "metadata": {
        "colab": {
          "base_uri": "https://localhost:8080/"
        },
        "id": "Rcu6kYn_ygrq",
        "outputId": "1a278d77-b49b-4b75-cde2-825109d7f705"
      },
      "source": [
        "lst"
      ],
      "execution_count": null,
      "outputs": [
        {
          "output_type": "execute_result",
          "data": {
            "text/plain": [
              "[['Aquatics', 4170],\n",
              " ['Athletics', 3638],\n",
              " ['Cycling', 1105],\n",
              " ['Fencing', 1613],\n",
              " ['Gymnastics', 2307],\n",
              " ['Shooting', 1150],\n",
              " ['Tennis', 296],\n",
              " ['Weightlifting', 593],\n",
              " ['Wrestling', 1212],\n",
              " ['Archery', 329],\n",
              " ['Basque Pelota', 4],\n",
              " ['Cricket', 24],\n",
              " ['Croquet', 8],\n",
              " ['Equestrian', 939],\n",
              " ['Football', 1497],\n",
              " ['Golf', 30],\n",
              " ['Polo', 66],\n",
              " ['Rowing', 2667],\n",
              " ['Rugby', 192],\n",
              " ['Sailing', 1109],\n",
              " ['Tug of War', 94],\n",
              " ['Boxing', 894],\n",
              " ['Lacrosse', 59],\n",
              " ['Roque', 3],\n",
              " ['Hockey', 1422],\n",
              " ['Jeu de paume', 3],\n",
              " ['Rackets', 10],\n",
              " ['Skating', 27],\n",
              " ['Water Motorsports', 5],\n",
              " ['Modern Pentathlon', 180],\n",
              " ['Ice Hockey', 27],\n",
              " ['Basketball', 1012],\n",
              " ['Canoe / Kayak', 1002],\n",
              " ['Handball', 973],\n",
              " ['Judo', 491],\n",
              " ['Volleyball', 994],\n",
              " ['Table Tennis', 144],\n",
              " ['Badminton', 144],\n",
              " ['Baseball', 335],\n",
              " ['Softball', 180],\n",
              " ['Taekwondo', 112],\n",
              " ['Triathlon', 24],\n",
              " ['Canoe', 81]]"
            ]
          },
          "metadata": {},
          "execution_count": 111
        }
      ]
    },
    {
      "cell_type": "code",
      "metadata": {
        "colab": {
          "base_uri": "https://localhost:8080/",
          "height": 399
        },
        "id": "2xdpg2YAyZ6X",
        "outputId": "d389bdc6-271e-4a2e-a599-dbd5d59c850c"
      },
      "source": [
        "pd.DataFrame(lst, columns=['Sport', 'ct']).sort_values(by='ct', ascending=False).head().plot(x='Sport',y='ct',kind='bar',figsize=(15,5))"
      ],
      "execution_count": null,
      "outputs": [
        {
          "output_type": "execute_result",
          "data": {
            "text/plain": [
              "<matplotlib.axes._subplots.AxesSubplot at 0x7f8d8d4d6d50>"
            ]
          },
          "metadata": {},
          "execution_count": 69
        },
        {
          "output_type": "display_data",
          "data": {
            "image/png": "[encoded data removed]",
            "text/plain": [
              "<Figure size 1080x360 with 1 Axes>"
            ]
          },
          "metadata": {
            "needs_background": "light"
          }
        }
      ]
    },
    {
      "cell_type": "markdown",
      "metadata": {
        "id": "9QmRQ3WqytWv"
      },
      "source": [
        "###4. Which player has won most number of medals? (Top 5)"
      ]
    },
    {
      "cell_type": "code",
      "metadata": {
        "id": "4SSdaje3y1x3"
      },
      "source": [
        "df = pd.read_csv(\"summer.csv\")"
      ],
      "execution_count": null,
      "outputs": []
    },
    {
      "cell_type": "code",
      "metadata": {
        "id": "PlsYePg9zHI1"
      },
      "source": [
        "data = df.values"
      ],
      "execution_count": null,
      "outputs": []
    },
    {
      "cell_type": "code",
      "metadata": {
        "id": "9BNpQHZ8zOFI"
      },
      "source": [
        "lst=[]\n",
        "for Athlete in df['Athlete'].unique():\n",
        "  ct=0\n",
        "  for i in range(len(data)):\n",
        "    if(data[i][4]==Athlete):\n",
        "      ct+=1\n",
        "  lst.append([Athlete,ct])"
      ],
      "execution_count": null,
      "outputs": []
    },
    {
      "cell_type": "code",
      "metadata": {
        "colab": {
          "base_uri": "https://localhost:8080/"
        },
        "id": "K5AhRoqU2-9R",
        "outputId": "fd851f66-14f3-4102-e646-5fc997003874"
      },
      "source": [
        "lst"
      ],
      "execution_count": null,
      "outputs": [
        {
          "output_type": "execute_result",
          "data": {
            "text/plain": [
              "[['HAJOS, Alfred', 2],\n",
              " ['HERSCHMANN, Otto', 2],\n",
              " ['DRIVAS, Dimitrios', 1],\n",
              " ['MALOKINIS, Ioannis', 1],\n",
              " ['CHASAPIS, Spiridon', 1],\n",
              " ['CHOROPHAS, Efstathios', 2],\n",
              " ['ANDREOU, Joannis', 1],\n",
              " ['NEUMANN, Paul', 1],\n",
              " ['PEPANOS, Antonios', 1],\n",
              " ['LANE, Francis', 1],\n",
              " ['SZOKOLYI, Alajos', 1],\n",
              " ['BURKE, Thomas', 2],\n",
              " ['HOFMANN, Fritz', 4],\n",
              " ['CURTIS, Thomas', 1],\n",
              " ['GOULDING, Grantley', 1],\n",
              " ['LERMUSIAUX, Albin', 1],\n",
              " ['FLACK, Edwin', 3],\n",
              " ['BLAKE, Arthur', 1],\n",
              " ['GMELIN, Charles', 1],\n",
              " ['JAMISON, Herbert', 1],\n",
              " ['GOLEMIS, Dimitrios', 1],\n",
              " ['DANI, Nandor', 1],\n",
              " ['VERSIS, Sotirios', 2],\n",
              " ['GARRETT, Robert', 6],\n",
              " ['PARASKEVOPOULOS, Panagiotis', 1],\n",
              " ['CLARK, Ellery', 2],\n",
              " ['CONNOLLY, James', 5],\n",
              " ['KELLNER, Gyula', 1],\n",
              " ['LOUIS, Spyridon', 1],\n",
              " ['VASILAKOS, Kharilaos', 1],\n",
              " ['DAMASKOS, Evangelos', 1],\n",
              " ['THEODOROPOULOS, Ioannis', 1],\n",
              " ['HOYT, William Welles', 1],\n",
              " ['TYLER, Albert', 1],\n",
              " ['PAPASIDERIS, Georgios', 1],\n",
              " ['GOUSKOS, Miltiadis', 1],\n",
              " ['PERSAKIS, Ioannis', 1],\n",
              " ['TUFFERI, Alexandre', 1],\n",
              " ['BATTEL, Edward', 1],\n",
              " ['KONSTANTINIDIS, Aristidis', 1],\n",
              " ['GOEDRICH, August', 1],\n",
              " ['FLAMENG, Léon', 3],\n",
              " ['KOLETTIS, Georgios', 1],\n",
              " ['SCHMAL, Adolf', 3],\n",
              " ['MASSON, Paul', 3],\n",
              " ['KEEPING, Frank', 1],\n",
              " ['NIKOLOPOULOS, Stamatios', 2],\n",
              " ['PIERRAKOS-MAVROMICHALIS, Perikles', 1],\n",
              " ['GRAVELOTTE, Eugène-Henri', 1],\n",
              " ['CALLOT, Henri', 1],\n",
              " ['PYRGOS, Leonidas', 1],\n",
              " ['PERRONNET, Maurice', 1],\n",
              " ['NIELSEN, Holger', 3],\n",
              " ['GEORGIADIS, Ioannis', 1],\n",
              " ['KARAKALOS, Telemachos', 1],\n",
              " ['WEINGÄRTNER, Hermann', 6],\n",
              " ['FLATOW, Alfred', 4],\n",
              " ['ZUTTER, Louis', 3],\n",
              " ['PERSAKIS, Petros', 2],\n",
              " ['MITROPOULOS, Ioannis', 2],\n",
              " ['ANDRIAKOPOULOS, Nicolaos', 2],\n",
              " ['XENAKIS, Thomasios', 2],\n",
              " ['BÖCKER, Konrad', 2],\n",
              " ['FLATOW, Gustav Felix', 2],\n",
              " ['HILMAR, Georg', 2],\n",
              " ['MANTEUFFEL, Fritz', 2],\n",
              " ['NEUKIRCH, Karl', 2],\n",
              " ['RÖSTEL, Richard', 2],\n",
              " ['SCHUFT, Gustav', 2],\n",
              " ['SCHUMANN, Carl', 4],\n",
              " ['CHRYSAPHIS, Ioannis', 1],\n",
              " ['KARVELAS, Phillippos', 1],\n",
              " ['LOUNDRAS, Dimitrios', 1],\n",
              " ['ATHANASOPOULOS, Spyros', 1],\n",
              " ['MORAKIS, Nikolaos', 1],\n",
              " ['PAINE, John', 1],\n",
              " ['PAINE, Sumner', 2],\n",
              " ['PHRANGOUDIS, Joannis', 3],\n",
              " ['ORPHANIDIS, Georgios', 2],\n",
              " ['TRIKUPIS, Nicolaos', 1],\n",
              " ['KARASEVDAS, Pantelis', 1],\n",
              " ['PAVLIDIS, Pavlos', 1],\n",
              " ['JENSEN, Viggo', 3],\n",
              " ['ROBERTSON, George Stuart', 1],\n",
              " ['BOLAND, John', 2],\n",
              " ['TRAUN, Friedrich', 1],\n",
              " ['KASDAGLIS, Dionysios', 2],\n",
              " ['PETROKOKKINOS, Demetrios', 1],\n",
              " ['PASPATIS, Konstantinos', 1],\n",
              " ['TAPAVICZA, Momcsillo', 1],\n",
              " ['NIKOLOPOULOS, Alexandros', 1],\n",
              " ['ELLIOTT, Launceston', 2],\n",
              " ['CHRISTOPOULOS, Stephanos', 1],\n",
              " ['TSITAS, Georgios', 1],\n",
              " ['HALMAY, Zoltan', 7],\n",
              " ['JARVIS, John Arthur', 2],\n",
              " ['WAHLE, Otto', 3],\n",
              " ['DROST, Johannes', 1],\n",
              " ['HOPPENBERG, Ernst', 2],\n",
              " ['RUBERL, Karl', 2],\n",
              " ['LANE, Frederick C.V.', 2],\n",
              " ['KEMP, Peter', 2],\n",
              " ['HOUBEN', 1],\n",
              " ['LEUILLIEUX, Jean', 1],\n",
              " ['MARTIN, Louis', 3],\n",
              " ['MERCHEZ, Désiré', 2],\n",
              " ['TARTARA', 1],\n",
              " ['FREY, Julius', 1],\n",
              " ['HAINLE, Max', 1],\n",
              " ['SCHÖNE, Max', 1],\n",
              " ['VON PETERSDORFF, Herbert', 1],\n",
              " ['BERTRAND', 1],\n",
              " ['CADET', 1],\n",
              " ['HOCHEPIED, Maurice', 1],\n",
              " ['HOCHEPIED, Victor', 1],\n",
              " ['VERBECKE', 1],\n",
              " ['LYKKEBERG, Peder', 1],\n",
              " ['DE VENDEVILLE, Charles', 1],\n",
              " ['SIX, André', 1],\n",
              " ['BURGESS, Thomas', 1],\n",
              " ['COULON', 1],\n",
              " ['DECUYPER, Alphonse', 1],\n",
              " ['DEVENOT', 1],\n",
              " ['FARDELLE', 1],\n",
              " ['FAVIER', 1],\n",
              " ['LAUFRAY, Louis', 1],\n",
              " ['LERICHE', 1],\n",
              " ['PESLIER, Henri', 1],\n",
              " ['PESLOY', 1],\n",
              " ['TREFFEL, Charles', 1],\n",
              " ['VASSEUR, Paul', 1],\n",
              " ['COE, Thomas', 1],\n",
              " ['DERBYSHIRE, John Henry', 2],\n",
              " ['LISTER, William', 1],\n",
              " ['ROBERTSON, Arthur', 1],\n",
              " ['ROBINSON, Eric', 1],\n",
              " ['WILKINSON, George', 3],\n",
              " ['COHEN, Henri', 1],\n",
              " ['DE BACKER, Jean', 1],\n",
              " ['DE BEHR, Victor', 1],\n",
              " ['FEYAERTS, Fernand', 2],\n",
              " ['GREGOIRE, Oscar', 3],\n",
              " ['MICHANT, Albert', 2],\n",
              " ['SONNEMANS, Victor', 1],\n",
              " ['PETIT, Charles Frédéric', 2],\n",
              " ['VAN INNIS, Hubert', 9],\n",
              " ['THIBAUD, Victor', 2],\n",
              " ['MERCIER, Emile', 1],\n",
              " ['MOUGIN, Eugène', 1],\n",
              " ['HELLE, Henri', 1],\n",
              " ['FISSEUX, Emile', 1],\n",
              " ['HEROUIN, Henri', 1],\n",
              " ['FOULON, Emmanuel', 1],\n",
              " ['DRUART, Jr.', 1],\n",
              " ['SERRURIER, Auguste', 2],\n",
              " ['GLINEUX, Louis', 1],\n",
              " ['GRUMIAUX, Emile', 1],\n",
              " ['ROWLEY, Stanley', 4],\n",
              " ['JARVIS, Francis', 1],\n",
              " ['TEWKSBURY, Walter B. John', 5],\n",
              " ['MOLONEY, Frederick', 1],\n",
              " ['KRAENZLEIN, Alvin', 4],\n",
              " ['MCLEAN, John', 1],\n",
              " ['BRAY, John', 1],\n",
              " ['BENNETT, Charles', 3],\n",
              " ['DELOGE, Henri', 2],\n",
              " ['PRITCHARD, Norman', 2],\n",
              " ['CHASTANIE, Jacques', 2],\n",
              " ['ORTON, George', 2],\n",
              " ['ROBINSON, Sidney', 3],\n",
              " ['RIMMER, John', 2],\n",
              " ['SCHULTZ, Ernst', 1],\n",
              " ['LONG, Maxwell W.Maxey', 1],\n",
              " ['HOLLAND, William', 1],\n",
              " ['TAUZIN, Henri', 1],\n",
              " ['TYSOE, Alfred', 2],\n",
              " ['CASTANET, André', 1],\n",
              " ['CHAMPOUDRY, Michel', 1],\n",
              " ['RAGUENEAU, Gaston', 1],\n",
              " ['HALL, David', 1],\n",
              " ['CREGAN, John', 1],\n",
              " ['SHELDON, Richard', 2],\n",
              " ['BAUER, Rudolf', 1],\n",
              " ['JANDA, Frantisek', 1],\n",
              " ['MCCRACKEN, Josiah', 2],\n",
              " ['FLANAGAN, John Jesus', 4],\n",
              " ['HARE, Thomas Truxton', 2],\n",
              " ['GÖNCZY, Lajos', 1],\n",
              " ['BAXTER, Irving', 5],\n",
              " ['LEAHY, Patrick Joseph', 2],\n",
              " ['SHELDON, Lewis Pendleton', 2],\n",
              " ['EWRY, Ray', 8],\n",
              " ['PRINSTEIN, Meyer', 4],\n",
              " ['TORCHEBOEUF, Emile', 1],\n",
              " ['FAST, Ernst', 1],\n",
              " ['THEATO, Michel', 1],\n",
              " ['CHAMPION, Emile', 1],\n",
              " ['ANDERSEN, Carl Albert', 2],\n",
              " ['COLKETT, Meredith Bright', 1],\n",
              " ['De AMEZOLA y ASPIZUA, José', 1],\n",
              " ['VILLOTA BAQUIOLA, Francisco', 1],\n",
              " ['DURQUETTY, Maurice', 1],\n",
              " ['ETCHEGARAY', 1],\n",
              " ['BEACHCROFT, Charles', 1],\n",
              " ['BIRKETT, Arthur Ernest', 1],\n",
              " ['BOWERMAN, Alfred James', 1],\n",
              " ['BUCKLEY, George John', 1],\n",
              " ['BURCHELL, Francis Romulus', 1],\n",
              " ['CHRISTIAN, Frederick William', 1],\n",
              " ['CORNER, Harry Richard', 1],\n",
              " ['CUMING, Frederick Wlliam', 1],\n",
              " ['DONNE, William Stephen', 1],\n",
              " ['POWLESLAND, Alfred James', 1],\n",
              " ['SYMES, John', 1],\n",
              " ['TOLLER, Montagu Henry', 1],\n",
              " ['ANDERSON, W.', 1],\n",
              " ['ATTRILL, W.T.', 1],\n",
              " ['BRAID, J.', 1],\n",
              " ['BROWNING, W.', 1],\n",
              " ['HORNE, R.', 1],\n",
              " ['JORDAN, T.H.', 1],\n",
              " ['MCEVOY, A.', 1],\n",
              " ['ROBINSON, D.', 1],\n",
              " ['ROQUES, F.', 1],\n",
              " ['SCHNEIDAU, A.J.', 1],\n",
              " ['TERRY, Henry John', 1],\n",
              " ['TOMALIN, P.H.', 1],\n",
              " ['AUMOITTE', 2],\n",
              " ['JOHIN', 2],\n",
              " ['WAYDELICH', 2],\n",
              " ['SAUTREAU', 1],\n",
              " ['VIGNEROT', 1],\n",
              " ['DAUMAIN, .....', 1],\n",
              " ['BASTIEN, Louis', 1],\n",
              " ['HILDEBRAND, Louis', 1],\n",
              " ['LAKE, John Henry', 1],\n",
              " ['TAILLANDIER, Georges', 1],\n",
              " ['SANZ, Fernand', 1],\n",
              " ['VAN DE POELE, Georges', 2],\n",
              " ['GARDERES, Dominique Maximien', 1],\n",
              " ['TRISSINO, Gian Giorgio', 2],\n",
              " ['DE CHAMPSAVIN, Louis', 1],\n",
              " ['HAEGEMAN, Aimé', 1],\n",
              " ['DE BELLEGARDE', 1],\n",
              " ['VAN LANGHENDONCK, Constant', 1],\n",
              " ['SEE, Léon', 2],\n",
              " ['FONST, Ramon', 5],\n",
              " ['PERREE, Louis', 1],\n",
              " ['AYAT, Albert', 2],\n",
              " ['LAURENT, Henri', 1],\n",
              " ['BOUGNOL, Emile', 1],\n",
              " ['BOULENGER, Marcel Jacques', 1],\n",
              " ['COSTE, Emile', 1],\n",
              " ['MASSON, Henri', 1],\n",
              " ['MIMIAGUE, Jean-Baptiste', 1],\n",
              " ['MERIGNAC, Lucien', 1],\n",
              " ['KIRCHHOFFER, Alphonse', 1],\n",
              " ['FLESCH, Siegfried', 1],\n",
              " ['DE LA FALAISE, Georges', 1],\n",
              " ['THIEBAUT, Léon', 1],\n",
              " ['NERALIC, Milan', 1],\n",
              " ['CONTE, Antonio', 1],\n",
              " ['SANTELLI, Italo', 2],\n",
              " ['DELBECQUE, Albert', 1],\n",
              " ['KELECOM, R.', 1],\n",
              " ['LEBOUTTE, Marcel', 1],\n",
              " ['LONDOT', 1],\n",
              " ['MOREAU, Ernest', 1],\n",
              " ['NEEFS, E.', 1],\n",
              " ['PELGRIMS, Georges', 1],\n",
              " ['RENIER, Alphonse', 1],\n",
              " ['SPANNOGHE, E.', 1],\n",
              " ['THORNTON, Erich', 1],\n",
              " ['VAN HEUCKELUM', 1],\n",
              " ['BUCKENHAM, Claude Percy', 1],\n",
              " ['BURRIDGE, T.E.', 1],\n",
              " ['CHALK, Alfred Ernest', 1],\n",
              " ['GROSLING, William Sullivan', 1],\n",
              " ['HASLAM, A.', 1],\n",
              " ['JONES, J.H.', 1],\n",
              " ['NICHOLAS, J.', 1],\n",
              " ['QUASH, William Francis', 1],\n",
              " ['SPACKMAN, F.G.', 1],\n",
              " ['TURNER, R.R.', 1],\n",
              " ['ZEALLEY, James Edward', 1],\n",
              " ['ALLEMANE, Pierre', 1],\n",
              " ['BACH', 1],\n",
              " ['BLOCH, Jean', 1],\n",
              " ['CANELLE, Fernand', 1],\n",
              " ['DUPARC', 1],\n",
              " ['FRAYSSE', 1],\n",
              " ['GAILLARD', 1],\n",
              " ['GARNIER, René', 1],\n",
              " ['GRANDJEAN', 1],\n",
              " ['HUTEAU', 1],\n",
              " ['LAMBERT', 1],\n",
              " ['MACAIRE', 1],\n",
              " ['PELTIER', 1],\n",
              " ['ROBERTSON, David Donaldson', 1],\n",
              " ['SANDS, Charles Edward', 1],\n",
              " ['RUTHERFORD, Walter', 1],\n",
              " ['PRATT, Daria', 1],\n",
              " ['ABBOTT, Margaret Ives', 1],\n",
              " ['WHITTIER, Pauline', 1],\n",
              " ['DEMANET, Lucien', 2],\n",
              " ['SANDRAS, Gustave', 1],\n",
              " ['BAS, Noël', 1],\n",
              " ['BOUSSOD, Jean', 1],\n",
              " ['DUC DE BISACCIA, Louis', 1],\n",
              " ['FAUQUET LEMAITRE, A.', 1],\n",
              " ['RAOUL-DUVAL, Maurice', 1],\n",
              " ['DALY, Dennis', 1],\n",
              " ['KEENE, Foxhall Parker', 1],\n",
              " ['MACKEY, Frank Jay', 1],\n",
              " ['RAWLINSON, Alfred', 1],\n",
              " ['BUCKMASTER, Walter Selby', 2],\n",
              " ['COMTE DE MADRE, José Pierre M.J.', 1],\n",
              " ['FREAKE, Frederick Maitland', 2],\n",
              " ['MCCREERY, Walter Adolph', 1],\n",
              " ['BRANDT, Francois Antoine', 2],\n",
              " ['BROCKMANN, Hermanus Gerardus', 3],\n",
              " ['KLEIN, Roelof', 2],\n",
              " ['LEEGSTRA, Ruud Gerbens', 1],\n",
              " ['MIDDELBERG, Walter', 1],\n",
              " ['OFFERHAUS, Hendrik Karel', 1],\n",
              " ['THIJSSEN, Walter', 1],\n",
              " ['TROMP, Henricus', 1],\n",
              " ['VAN DIJK, Johannes Wilhelmus Maria', 1],\n",
              " ['ABELL, Louis', 2],\n",
              " ['CARR, William', 1],\n",
              " ['DEBAECKE, Harry', 1],\n",
              " ['EXLEY, John', 2],\n",
              " ['GEIGER, John', 1],\n",
              " ['HEDLEY, Edward', 1],\n",
              " ['JUVENAL, James', 2],\n",
              " ['LOCKWOOD, Roscoe', 1],\n",
              " ['MARSH, Edward', 1],\n",
              " ['BRUGGEMAN, Prospère', 1],\n",
              " ['DE BISSCHOP, Jules', 1],\n",
              " ['DE COCK, Oscar', 1],\n",
              " ['DE SOMVILLE, Oscar Charles', 2],\n",
              " ['HEMELSOET, Maurice', 1],\n",
              " ['ODBERG, Frank', 1],\n",
              " ['VAN CROMBRUGGHE, Marcel Lucien', 1],\n",
              " ['VAN LANDEGHEM, Alfred', 2],\n",
              " ['VERDONCK, Maurice', 1],\n",
              " ['CARSTENS, Wilhelm', 1],\n",
              " ['FELLE, Ernst', 1],\n",
              " ['FICKEISEN, Otto', 2],\n",
              " ['KÖRNER, Julius', 1],\n",
              " ['KRÖWERATH, Franz', 1],\n",
              " ['LEHLE, Carl', 1],\n",
              " ['MÖLLER, Adolf', 1],\n",
              " ['MOTHS, Gustav Adolf', 1],\n",
              " ['RÜSTER, Hugo', 1],\n",
              " ['WILKER, Hermann', 2],\n",
              " ['BOUCKAERT, Henri', 1],\n",
              " ['CAU, Jean', 1],\n",
              " ['CHARLOT', 1],\n",
              " ['DELCHAMBRE, Emile', 1],\n",
              " ['GOSSLER, Carl Heinrich', 1],\n",
              " ['GOSSLER, Gustav Ludwig', 1],\n",
              " ['GOSSLER, Oscar', 1],\n",
              " ['HAZEBROUCK, Henri', 1],\n",
              " ['KATZENSTEIN, Walther', 1],\n",
              " ['TIETGENS, Waldemar', 1],\n",
              " ['HIEBENDAAI, Coenraad Christiaan', 1],\n",
              " ['LOTSY, Gerhard Oswald', 1],\n",
              " ['LOTSY, Paulus Jan', 1],\n",
              " ['LUMPP, Georges', 1],\n",
              " ['PERRIN, Charles', 1],\n",
              " ['SOUBEYRAN, Daniel', 1],\n",
              " ['TERWOGT, Johannes Hester Lambertus', 1],\n",
              " ['WEGELIN, Emile', 1],\n",
              " ['DELTOUR, Carlos', 1],\n",
              " ['PAOLI, Raoul', 1],\n",
              " ['VEDRENNE, Antoine Erneste', 1],\n",
              " ['MARTINET, Louis', 1],\n",
              " ['UNKNOWN COX / BARREUR INCONNU', 1],\n",
              " ['WALEFF', 1],\n",
              " ['ASHE, Saint-George', 1],\n",
              " ['BARRELET, Henri', 1],\n",
              " ['GAUDIN, André', 1],\n",
              " ['AITOFF, Vladimir', 1],\n",
              " ['ALBERT, A.', 1],\n",
              " ['BINOCHE, Jean, LÃ©on', 1],\n",
              " ['COLLAS, Jean', 2],\n",
              " ['GAUTIER, Jean Guy', 1],\n",
              " ['GIROUX, Auguste', 1],\n",
              " ['GONDOUIN, Charles', 2],\n",
              " ['HENRIQUEZ DE ZUBIERRA, Constantin', 2],\n",
              " ['HERVE, Jean', 1],\n",
              " ['LARDANCHET, Victor', 1],\n",
              " ['LEFEBVRE, Hubert', 1],\n",
              " ['OLIVIER, Joseph', 1],\n",
              " ['PHARAMOND, Alexandre', 1],\n",
              " ['REICHEL, Frantz', 1],\n",
              " ['RISCHMANN, André', 1],\n",
              " ['ROOSEVELT, Albert', 1],\n",
              " ['SARRADE, Emile', 2],\n",
              " ['AMRHEIN, Albert', 1],\n",
              " ['BAYLISS, F.C.', 1],\n",
              " ['BETTING, Hugo', 1],\n",
              " ['BIRTLES, J.Henry', 1],\n",
              " ['CAUTLON, J.', 1],\n",
              " ['DARBY, Artur John', 1],\n",
              " ['DEYKIN, C.P.', 1],\n",
              " ['HERRMANN, Jacob', 1],\n",
              " ['HOFMEISTER, Willy', 1],\n",
              " ['HOOD, L.', 1],\n",
              " ['KREUZER, Hermann', 1],\n",
              " ['LANDVOIGT, Arnold', 1],\n",
              " ['LATSCHA, Hans', 1],\n",
              " ['LOGAN, M.L.', 1],\n",
              " ['LOVEITT, H.A.', 1],\n",
              " ['LUDWIG, Erich', 1],\n",
              " ['LUDWIG, Richard', 1],\n",
              " ['MÜLLER, Fritz', 1],\n",
              " ['NICOL, N.S.', 1],\n",
              " ['POPPE, Eduard', 1],\n",
              " ['REITZ, Heinrich', 1],\n",
              " ['SCHMIERER, August', 1],\n",
              " ['SMITH, V.', 1],\n",
              " ['STOCKHAUSEN, Adolf', 1],\n",
              " ['TALBOT, M.W.', 1],\n",
              " ['WALLIS, J.G.', 1],\n",
              " ['WENDEROTH, Georg', 1],\n",
              " ['WHITTINDALE, Claud', 1],\n",
              " ['WHITTINDALE, Raymond', 1],\n",
              " ['WILSON, Francis Henry', 1],\n",
              " ['MICHELET, E.', 2],\n",
              " ['MICHELET, F.', 2],\n",
              " ['GRETTON, John H.', 2],\n",
              " ['HOPE, Linton', 2],\n",
              " ['LORD CURRIE, Lorne Campbell', 2],\n",
              " ['BAUDRIER, Jacques', 1],\n",
              " ['LEBRET, Jean', 1],\n",
              " ['MARCOTTE', 1],\n",
              " ['MARTIN, William', 2],\n",
              " ['VALTON', 1],\n",
              " ['HORE, Edward', 1],\n",
              " ['BILLARD, Emile', 1],\n",
              " ['PERQUER, P.', 1],\n",
              " ['LE DUC DECAZES, Jean', 1],\n",
              " ['MACHENRY, M.', 1],\n",
              " ['TAYLOR, Howard', 1],\n",
              " ['GUFFLET, Maurice', 1],\n",
              " ['NAUE, Georg', 1],\n",
              " ['PETERS, Heinrich', 1],\n",
              " ['WEISE, Ottokar', 1],\n",
              " ['WIESNER, Martin', 1],\n",
              " ['BALME, Eugène', 2],\n",
              " ['LARROUY, Maurice', 1],\n",
              " ['MOREAUX, Léon', 3],\n",
              " ['BOUWENS, Antonius', 1],\n",
              " ['SILLEM, Henrik', 1],\n",
              " ['SWEYS, Anthony Ahasuerus', 1],\n",
              " ['VAN DEN BERGH, Solko Johannes', 1],\n",
              " ['VAN HAAN, Gerardus', 1],\n",
              " ['LÜTHI, Friedrich', 1],\n",
              " ['PROBST, Paul', 1],\n",
              " ['RICHARDET, Louis-Marc', 2],\n",
              " ['RÖDERER, Karl Konrad', 2],\n",
              " ['STÄHELI, Konrad', 4],\n",
              " ['DUFFOY, Louis', 1],\n",
              " ['LECOQ, Maurice', 3],\n",
              " ['PAROCHE, Achille', 5],\n",
              " ['TRINITE', 1],\n",
              " ['ÖSTMO, Ole', 4],\n",
              " ['VAN ASBROECK, Paul', 3],\n",
              " ['KELLENBERGER, Emil', 3],\n",
              " ['NIELSEN, Anders Peter', 4],\n",
              " ['PAUMIER DU VERGIER, Charles', 2],\n",
              " ['MADSEN, Lars Jörgen', 5],\n",
              " ['CAVADINI, Auguste', 1],\n",
              " ['THOMAS, René', 1],\n",
              " ['BÖCKLI, Franz', 1],\n",
              " ['GRÜTER, Alfred', 1],\n",
              " ['FRYDENLUND, Olaf Emil', 1],\n",
              " ['HERMANDSEN, Hellmer', 1],\n",
              " ['SAETHER, Ole Andreas', 3],\n",
              " ['SEEBERG, Tom', 1],\n",
              " ['DE CLARY, Justinien', 1],\n",
              " ['DE BARBARIN, Roger', 1],\n",
              " ['GUYOT, René', 1],\n",
              " ['DE LA CHAPELLE, Georges', 1],\n",
              " ['MAHONY, Harold Sergerson', 3],\n",
              " ['NORRIS, Arthur B.J.', 2],\n",
              " ['PREVOST, André', 1],\n",
              " ['DOHERTY, Hugh Lawrence', 3],\n",
              " ['DOHERTY, Reginald Frank', 4],\n",
              " ['DE GARMENDIA, Basil Spalding', 1],\n",
              " ['DECUGIS, Max', 3],\n",
              " ['WARDEN, Archibald A.', 1],\n",
              " ['JONES, Marion', 2],\n",
              " ['ROSENBAUM, Hedwig', 2],\n",
              " ['COOPER, Charlotte', 2],\n",
              " ['PREVOST, Hélène', 2],\n",
              " ['AABYE, Edgar', 1],\n",
              " ['NILSSON, August', 1],\n",
              " ['SCHMIDT, Eugen', 1],\n",
              " ['SÖDERSTRÖM, Gustaf', 1],\n",
              " ['STAAF, Karl Gustav', 1],\n",
              " ['WINCKLER, Charles', 1],\n",
              " ['BASSET, Pierre', 1],\n",
              " ['ROFFO, Joseph', 1],\n",
              " ['BRAUNSCHWEIGER, Alfred', 1],\n",
              " ['KEHOE, Frank', 1],\n",
              " ['SHELDON, George', 1],\n",
              " ['HOFFMANN, Georg', 2],\n",
              " ['GOODWIN, Leo Budd', 3],\n",
              " ['DICKEY, William Paul', 1],\n",
              " ['ADAMS, Edgar H.', 1],\n",
              " ['ZACHARIAS, Georg', 2],\n",
              " ['BRACK, Walter', 2],\n",
              " ['LEARY, J. Scott', 2],\n",
              " ['DANIELS, Charles', 7],\n",
              " ['GAILEY, Francis', 4],\n",
              " ['RAUSCH, Emil', 3],\n",
              " ['KISS, Geza', 2],\n",
              " ['HANDY, Hehry Jamison', 1],\n",
              " ['EVANS, Gwynne', 1],\n",
              " ['ORTHWEIN, William Robert', 1],\n",
              " ['REYBURN, Amadee', 1],\n",
              " ['SCHWARTZ, Marquard', 1],\n",
              " ['HANDLEY, Louis De Breda', 1],\n",
              " ['RUDDY, Joseph A.', 1],\n",
              " ['GOETZ, Hugo', 1],\n",
              " ['HAMMOND, David', 1],\n",
              " ['THORNE, Raymond', 1],\n",
              " ['TUTTLE, William', 1],\n",
              " ['THOMPSON, William Henry', 3],\n",
              " ['BRYANT, George Philipp', 3],\n",
              " ['WILLIAMS, Robert', 4],\n",
              " ['POLLOCK, Jessie', 3],\n",
              " ['HOWELL, Matilda Scott', 3],\n",
              " ['COOKE, Emma C.', 3],\n",
              " ['BRYANT, Wallace', 1],\n",
              " ['DALLIN, Cyrus Edwin', 1],\n",
              " ['RICHARDSON, Henry Barber', 2],\n",
              " ['MAXSON, Louis W.', 1],\n",
              " ['SPENCER, Galen Carter', 1],\n",
              " ['CLARK, William A.', 1],\n",
              " ['DUVALL, Samuel Harding', 1],\n",
              " ['HUBBARD, Charles R.', 1],\n",
              " ['WOODRUFF, Charles S.', 1],\n",
              " ['TAYLOR, Louise', 1],\n",
              " ['WOODRUFF, Laura', 1],\n",
              " ['TAYLOR, Mabel', 1],\n",
              " ['HOGENSON, William', 3],\n",
              " ['HAHN, Archie', 3],\n",
              " ['CARTMELL, John Nathaniel', 4],\n",
              " ['ASHBURNER, Lesley', 1],\n",
              " ['SCHULE, Frederick', 1],\n",
              " ['SHIDELER, Thaddeus', 1],\n",
              " ['HEARN, Lacey', 2],\n",
              " ['LIGHTBODY, James', 4],\n",
              " ['VERNER, William Frank', 2],\n",
              " ['POAGE, George', 2],\n",
              " ['HILLMAN, Harry', 4],\n",
              " ['CASTLEMAN, Frank', 1],\n",
              " ['NEWTON, Arthur', 3],\n",
              " ['DALY, John', 1],\n",
              " ['GROMAN, Herman', 1],\n",
              " ['WALLER, Frank', 2],\n",
              " ['MUNSON, David Curtis', 1],\n",
              " ['PILGRIM, Paul Harry', 1],\n",
              " ['UNDERWOOD, George', 1],\n",
              " ['VALENTINE, Howard', 2],\n",
              " ['CORAY, Albert', 2],\n",
              " ['HATCH, Sidney', 1],\n",
              " ['MITCHELL, James', 1],\n",
              " ['DESMARTEAU, Etienne', 1],\n",
              " ['MOULTON, Fay', 1],\n",
              " ['BREITKREUTZ, Emil', 1],\n",
              " ['KIELY, Thomas Francis', 1],\n",
              " ['GUNN, Adam', 1],\n",
              " ['GEORGANDAS, Nicolaos', 1],\n",
              " ['SHERIDAN, Martin', 4],\n",
              " ['ROSE, Ralph', 6],\n",
              " ['DEWITT, John', 1],\n",
              " ['WEINSTEIN, Paul', 1],\n",
              " ['JONES, Samuel', 1],\n",
              " ['SERVISS, Garrett', 1],\n",
              " ['ROBERTSON, Lawson N.', 1],\n",
              " ['STADLER, Joseph F.', 2],\n",
              " ['STANGLAND, Robert', 2],\n",
              " ['FRANK, Daniel', 1],\n",
              " ['BILLER, John', 2],\n",
              " ['KING, Charles', 2],\n",
              " ['HICKS, Thomas', 1],\n",
              " ['WILKINS, Louis', 1],\n",
              " ['DVORAK, Charles', 1],\n",
              " ['SAMSE, Leroy', 1],\n",
              " ['FEUERBACH, Lawrence E. Joseph', 1],\n",
              " ['COE, William Wesley', 1],\n",
              " ['MERZ, William', 5],\n",
              " ['EMMERICH, Max', 1],\n",
              " ['GRIEB, John', 2],\n",
              " ['ENGLEHARDT, Frederick', 1],\n",
              " ['FINNEGAN, George', 2],\n",
              " ['BURKE, Miles', 1],\n",
              " ['MICHAELS, William', 1],\n",
              " ['BERGER, Samuel', 1],\n",
              " ['MAYER, Charles', 2],\n",
              " ['KIRK, Oliver L.', 2],\n",
              " ['GILMORE, Frederick', 1],\n",
              " ['HALLER, Frank', 1],\n",
              " ['VAN HORN, Russell', 1],\n",
              " ['SPANGER, Harry J.', 2],\n",
              " ['EAGAN, James Jack', 2],\n",
              " ['LYDON, Joseph', 3],\n",
              " ['YOUNG, Albert', 1],\n",
              " ['SPRADLEY, Benjamin', 1],\n",
              " ['BILLINGTON, Edward', 4],\n",
              " ['HURLEY, Marcus', 5],\n",
              " ['DOWNING, Burton', 6],\n",
              " ['GOERKE, Oscar', 1],\n",
              " ['WILEY, George', 2],\n",
              " ['ANDREWS, Arthur F.', 2],\n",
              " ['SCHLEE, Charles', 1],\n",
              " ['VAN ZO POST, Albertson', 5],\n",
              " ['TATHAM, Charles', 3],\n",
              " ['DIAZ, Manuel', 2],\n",
              " ['FOX, Arthur', 1],\n",
              " ['TOWNSEND, Charles Fitzhugh', 1],\n",
              " ['GREBE, William', 2],\n",
              " [\"O'CONNOR, William Scott\", 1],\n",
              " ['BRADY, Joseph J.', 2],\n",
              " ['COOKE, George Edwin', 2],\n",
              " ['COOKE, Thomas J.', 2],\n",
              " ['COSTGROVE, Cormic F.', 2],\n",
              " ['DIERKES', 2],\n",
              " ['DOOLING, Martin T.', 2],\n",
              " ['FROST, Frank', 2],\n",
              " ['JAMESON, Claude Stanley', 2],\n",
              " ['JAMESON, Henry Wood', 2],\n",
              " ['JOHNSON, -', 2],\n",
              " [\"O'CONNELL\", 2],\n",
              " ['TATE, Harry', 2],\n",
              " ['BARTLIFF, Charles Albert', 2],\n",
              " ['BRITTINGHAM, Warren G.', 2],\n",
              " ['BROCKMEYER, Oscar B.', 2],\n",
              " ['CUDMORE, Alexander', 2],\n",
              " ['DUCKER, George', 1],\n",
              " ['FRASER, John Alexander', 1],\n",
              " ['GOURLEY, John', 1],\n",
              " ['HALL, Alexander', 1],\n",
              " ['JANUARY, Charles James', 2],\n",
              " ['JANUARY, John Hartnett', 2],\n",
              " ['JANUARY, Thomas Thurston', 2],\n",
              " ['JOHNSON, Albert', 1],\n",
              " ['LANE, Robert', 1],\n",
              " ['LAWLER, Raymond E.', 2],\n",
              " ['LINTON, Ernest', 1],\n",
              " ['MACDONALD, Gordon', 1],\n",
              " ['MENGES, Louis John', 2],\n",
              " ['RATICAN, Peter Joseph', 2],\n",
              " ['STEEP, Frederick', 1],\n",
              " ['TAYLOR, Thomas', 1],\n",
              " ['TWAITS, William', 1],\n",
              " ['MCKINNIE, Burt P.', 2],\n",
              " ['NEWTON, Francis Clement', 2],\n",
              " ['LYON, George Seymour', 1],\n",
              " ['EGAN, Henri Chandler', 2],\n",
              " ['CUMMINS, Edward M.', 1],\n",
              " ['EDWARDS, Kenneth Paine', 1],\n",
              " ['EGAN, Walter Eugene', 1],\n",
              " ['HUNTER, Robert Edward', 2],\n",
              " ['MOORE, Nathaniel Fish', 1],\n",
              " ['PHELPS, Mason Elliot', 1],\n",
              " ['SAWYER, Danieledward', 1],\n",
              " ['SMOOT, Clement E.', 1],\n",
              " ['WOOD, Warren K.', 1],\n",
              " ['CADY, John Deere', 1],\n",
              " ['LAMBERT, Albert Bond', 1],\n",
              " ['MAXWELL, John R.', 1],\n",
              " ['MCKITTRICK, Ralph', 1],\n",
              " ['POTTER, Henry', 1],\n",
              " ['SEMPLE, Frederick', 1],\n",
              " ['STICKNEY, Arthur William', 1],\n",
              " ['STICKNEY, Stuart Grosvenor', 1],\n",
              " ['WILSON, Ralph', 1],\n",
              " ['HENNIG, Edward', 2],\n",
              " ['VOIGT, Emil', 3],\n",
              " ['WEBER, Wilhelm', 2],\n",
              " ['SPINNLER, Adolf', 2],\n",
              " ['LENHART, Julius', 3],\n",
              " ['HEIDA, Anton', 6],\n",
              " ['EYSER, George', 6],\n",
              " ['DUHA, John', 2],\n",
              " ['GLASS, Hermann', 1],\n",
              " ['KRAUSE, Charles', 2],\n",
              " ['MAYACK, Robert', 1],\n",
              " ['MEYER, George', 1],\n",
              " ['SCHUSTER, Philipp', 1],\n",
              " ['SIEGLER, Edward', 1],\n",
              " ['HESS, Max', 1],\n",
              " ['KASSEL, Philipp', 1],\n",
              " ['RECKEWEG, Ernst', 1],\n",
              " ['BEYER, Emil', 1],\n",
              " ['BISSINGER, John', 1],\n",
              " ['ROSENKAMPF, Arthur', 1],\n",
              " ['SCHMITZ, Julian', 1],\n",
              " ['STEFFEN, Otto', 1],\n",
              " ['WOLF, Max', 1],\n",
              " ['BLANCHARD, Elie', 1],\n",
              " ['BRENNAUGH, W.', 1],\n",
              " ['BRETZ, George', 1],\n",
              " ['BURNS, William Laurie', 1],\n",
              " ['CATTANACH, George', 1],\n",
              " ['CLOUTIER, George', 1],\n",
              " ['COWAN, Sandy', 1],\n",
              " ['FLETT, Jack', 1],\n",
              " ['JAMIESON, Benjamin', 1],\n",
              " ['LAIDLAW, Hilliard', 1],\n",
              " ['LYLE, H.', 1],\n",
              " ['ORRIS, William F.L.', 1],\n",
              " ['PENTLAND, L.H.', 1],\n",
              " ['CROGAN, Patrick', 1],\n",
              " ['DOWLING, J.W.', 1],\n",
              " ['GIBSON', 1],\n",
              " ['HESS', 1],\n",
              " ['LEHMAN', 1],\n",
              " ['MURPHY', 1],\n",
              " ['PARTRIDGE', 1],\n",
              " ['PASSMORE, George', 1],\n",
              " ['SULLIVAN', 1],\n",
              " ['VENN, A.H.', 1],\n",
              " ['WOODS', 1],\n",
              " ['YOUNG', 1],\n",
              " ['BROWN, Charles', 2],\n",
              " ['JACOBUS, Charles', 1],\n",
              " ['STREETER, Smith O.', 1],\n",
              " ['BUERGER, Joseph', 1],\n",
              " ['JOACHIM, John', 1],\n",
              " ['FARNAM, Robert', 1],\n",
              " ['RYAN, Joseph', 1],\n",
              " ['MULCAHY, John J.F.', 2],\n",
              " ['VARLEY, William', 2],\n",
              " ['RAVANACK, Joseph', 1],\n",
              " ['WELLS, John', 1],\n",
              " ['HOBEN, John Grey', 1],\n",
              " ['MCLOUGHLIN, James', 1],\n",
              " ['ARMSTRONG, Charles E.', 1],\n",
              " ['CRESSER, Frederick', 1],\n",
              " ['DEMPSEY, Joseph F.', 1],\n",
              " ['FLANIGAN, James', 1],\n",
              " ['GLEASON, Michael D.', 1],\n",
              " ['LOTT, Harry Hunter', 1],\n",
              " ['SCHELL, Frank Reaner', 1],\n",
              " ['BAILEY, Arthur B.', 1],\n",
              " ['BOYD, Philip Ewing', 1],\n",
              " ['LOUDON, Thomas Richardson', 1],\n",
              " ['MACKENZIE, Donald', 1],\n",
              " ['REIFFENSTEIN, George Patrick', 1],\n",
              " ['RICE, William', 1],\n",
              " ['STRANGE, George  M.', 1],\n",
              " ['WADSWORTH, William', 1],\n",
              " ['WRIGHT, Joseph George', 2],\n",
              " ['DUNIMERTH, Frank', 1],\n",
              " ['FREITAG, John', 1],\n",
              " ['HELM, Louis G.', 1],\n",
              " ['VOERG, Gustav', 1],\n",
              " ['DIETZ, George', 1],\n",
              " ['ERKER, August', 1],\n",
              " ['NASSE, Albert', 1],\n",
              " ['STOCKHOFF, Arthur', 1],\n",
              " ['AMAN, Charles', 1],\n",
              " ['BEGLEY, Michael', 1],\n",
              " ['FROMANACK, Martin', 1],\n",
              " ['SUERIG, Frederick', 1],\n",
              " ['TITUS, Constance', 1],\n",
              " ['GREER, Frank', 1],\n",
              " ['GAMBLE, Clarence Olivier', 1],\n",
              " ['WEAR, Arthur Yancey', 1],\n",
              " ['WEAR, Joseph Walker', 1],\n",
              " ['WEST, Allen Tarwater', 1],\n",
              " ['LEONARD, Edgar Welch', 2],\n",
              " ['WRIGHT, Beals Coleman', 2],\n",
              " ['BELL, Alphonzo Edward', 2],\n",
              " ['LEROY, Robert', 2],\n",
              " ['FRIDE, H.', 1],\n",
              " ['HABERCORN, Charles', 1],\n",
              " ['JACOBS, H.', 1],\n",
              " ['KUNGLER, Frank', 4],\n",
              " ['THEAS, Charles', 1],\n",
              " ['FLANAGAN, Patrick', 1],\n",
              " ['JOHNSON, Sydney B.', 1],\n",
              " ['MAGNUSSEN, Conrad', 1],\n",
              " ['OLSON, Oscar G.', 1],\n",
              " ['SICLING, H.', 1],\n",
              " ['BRAUN, Max', 1],\n",
              " ['RODENBERGER, August', 1],\n",
              " ['ROSE, Charles', 1],\n",
              " ['SEILING, William', 1],\n",
              " ['UPSHAW, Orrin Thomas', 1],\n",
              " ['OSTHOFF, Oscar Paul', 2],\n",
              " ['WINTERS, Frederick', 1],\n",
              " ['KAKOUSIS, Perikles', 1],\n",
              " ['THIEFENTHALER, Gustav', 1],\n",
              " ['CURRY, Robert', 1],\n",
              " ['HEIN, John', 1],\n",
              " ['WARMBOLD, Frederick Charles', 1],\n",
              " ['HANSEN, Bernhuff', 1],\n",
              " ['NELSON, William', 1],\n",
              " ['MEHNERT, George Nicholas', 2],\n",
              " ['BAUER, Gustav', 1],\n",
              " ['STREBLER, Zenon B.', 1],\n",
              " ['NIFLOT, Isidor', 1],\n",
              " ['WESTER, August', 1],\n",
              " ['CLAPPER, Charles E.', 1],\n",
              " ['BRADSHAW, Benjamin Joseph', 1],\n",
              " ['MCLEAR, Theodore', 1],\n",
              " ['ZIRKEL, Albert', 1],\n",
              " ['ROEHM, Otto F.', 1],\n",
              " ['TESING, Rudolph', 1],\n",
              " ['WINHOLTZ, Jerry', 1],\n",
              " ['ERICKSEN, Charles', 1],\n",
              " ['BECKMANN, William', 1],\n",
              " ['SPANGBERG, Arvid', 1],\n",
              " ['JOHANSSON, Hjalmar', 2],\n",
              " ['MALMSTRÖM, Karl', 1],\n",
              " ['GAIDZIK, George William', 1],\n",
              " ['WALZ, Gottlob', 1],\n",
              " ['ZÜRNER, Albert', 2],\n",
              " ['BEHRENS, Kurt', 2],\n",
              " ['HARESNAPE, Herbert Nickall', 1],\n",
              " ['BIEBERSTEIN, Arno', 1],\n",
              " ['DAM, Hans Peter Ludwig', 1],\n",
              " ['JULIN, Harald S.A.', 3],\n",
              " ['BEAUREPAIRE, Frank E.', 4],\n",
              " ['TAYLOR, Henry', 5],\n",
              " ['BATTERSBY, Thomas Sidney', 2],\n",
              " ['HANSSON, Pontus', 3],\n",
              " ['HOLMAN, Frederick', 1],\n",
              " ['ROBINSON, William Walter', 1],\n",
              " ['SCHEFF, Otto', 1],\n",
              " ['HEBNER, Harry J.', 3],\n",
              " ['RICH, Leslie George', 1],\n",
              " ['FOSTER, William', 2],\n",
              " ['RADMILOVIC, Paul', 4],\n",
              " ['LAS TORRES, Béla', 1],\n",
              " ['MUNK, Jozsef', 1],\n",
              " ['ZACHAR, Imre', 1],\n",
              " ['CORNET, George Thomson', 2],\n",
              " ['FORSYTH, Charles Eric', 1],\n",
              " ['NEVINSON, George Wilfrid', 1],\n",
              " ['SMITH, Charles Sydney', 3],\n",
              " ['THOULD, Thomas Henry', 1],\n",
              " ['BOIN, Victor', 3],\n",
              " ['DONNERS, Hermann', 2],\n",
              " ['MEYBOOM, Herman', 2],\n",
              " ['PLETINCX, Joseph', 4],\n",
              " ['CABARET, Gustave', 1],\n",
              " ['GRISOT, EugÃ¨ne G.', 4],\n",
              " ['VERNET, Louis', 1],\n",
              " ['HILL-LOWE, Beatrice Geraldine', 1],\n",
              " ['NEWALL, Sybil Fenton Quenni', 1],\n",
              " ['DOD, Charlotte', 1],\n",
              " ['DOD, William', 1],\n",
              " ['BROOKS-KING, Reginald B.', 1],\n",
              " ['KERR, Robert', 2],\n",
              " ['WALKER, Reginald', 1],\n",
              " ['RECTOR, James', 1],\n",
              " ['SPENCER, Edward Adams', 1],\n",
              " ['LARNER, George Edward', 2],\n",
              " ['WEBB, Ernest', 3],\n",
              " ['SHAW, Arthur', 1],\n",
              " ['SMITHSON, Forrest', 1],\n",
              " ['GARRELS, John Carlyle', 2],\n",
              " ['HALLOWS, Norman', 1],\n",
              " ['SHEPPARD, Melvin', 5],\n",
              " ['WILSON, Harold', 2],\n",
              " ['CLOUGHEN, Robert', 1],\n",
              " ['EISELE, John Lincoln', 2],\n",
              " ['RUSSELL, Arthur', 1],\n",
              " ['ROBERTSON, Arthur James', 2],\n",
              " ['KERR, Harry E.', 1],\n",
              " ['DE FLEURAC, Louis N.', 1],\n",
              " ['DREHER, Joseph', 1],\n",
              " ['LIJANDIER, Paul', 1],\n",
              " ['COALES, William', 1],\n",
              " ['DEAKIN, Joseph Edmund', 1],\n",
              " ['BONHAG, George V.', 2],\n",
              " ['TRUBE, Herbert Lawrence', 1],\n",
              " ['HALSWELLE, Wyndham', 1],\n",
              " ['TREMEER, Leonard Francis', 1],\n",
              " ['BACON, Charles Joseph', 1],\n",
              " ['BODOR, Ödön', 1],\n",
              " ['NAGY, Jozsef', 1],\n",
              " ['RACZ, G.', 1],\n",
              " ['SIMON, Pal', 1],\n",
              " ['HAMILTON, William Frank', 1],\n",
              " ['TAYLOR, John Baxter', 1],\n",
              " ['BRAUN, Hans', 3],\n",
              " ['EICKE, Hans', 1],\n",
              " ['HOFFMANN, Artur', 1],\n",
              " ['TRIELOFF, Otto P.', 1],\n",
              " ['SVANBERG, Johan Fritiof', 1],\n",
              " ['VOIGT, Emil Robert', 1],\n",
              " ['OWEN, Edward', 2],\n",
              " ['LUNGHI, Emilio', 1],\n",
              " ['HORR, Marquis Franklin', 2],\n",
              " ['GIFFIN, Merritt Hayward', 1],\n",
              " ['JÄRVINEN, Werner', 1],\n",
              " ['WALSH, Cornelius', 1],\n",
              " ['MCGRATH, Matthew J.', 3],\n",
              " ['PORTER, Harry Franklin', 1],\n",
              " ['ANDRE, Georges', 2],\n",
              " ['LEAHY, Cornelius', 1],\n",
              " ['SOMODY, Istvan', 1],\n",
              " ['TSICLITIRAS, Konstantinos', 4],\n",
              " ['NILSSON, Otto', 1],\n",
              " ['LEMMING, Eric', 3],\n",
              " ['HALSE, Arne', 2],\n",
              " ['DORIZAS, Mikael M.', 1],\n",
              " ['BRICKER, Calvin David', 2],\n",
              " ['IRONS, Francis C.', 1],\n",
              " ['KELLY, Daniel', 1],\n",
              " ['FORSHAW, Joseph', 1],\n",
              " ['HAYES, John Joseph', 1],\n",
              " ['HEFFERON, Charles A.', 1],\n",
              " ['ARCHIBALD, Edward Blake', 1],\n",
              " ['JACOBS, Charles Sherman', 1],\n",
              " ['SÖDERSTRÖM, Bruno', 1],\n",
              " ['COOKE, Edward Tiffin', 1],\n",
              " ['GILBERT, Alfred Carleten', 1],\n",
              " ['HORGAN, Dennis', 1],\n",
              " ['LARSEN, Edvard', 1],\n",
              " ['AHEARNE, Timoty J.', 1],\n",
              " ['MACDONALD, J.Garfield', 1],\n",
              " ['WEBB, William', 1],\n",
              " ['THOMAS, A. Henry', 1],\n",
              " ['CONDON, John', 1],\n",
              " ['PARKS, Frederick', 1],\n",
              " ['OLDMAN, Albert Leonard', 1],\n",
              " ['EVANS, Sydney Charles H.', 1],\n",
              " ['RODDIN, Hugh', 1],\n",
              " ['GUNN, Richard Kenneth', 1],\n",
              " ['MORRIS, Charles W.', 1],\n",
              " ['JOHNSON, Harry H.', 1],\n",
              " ['GRACE, Frederick', 1],\n",
              " ['SPILLER, M. Frederick', 1],\n",
              " ['PHILO, William', 1],\n",
              " ['DOUGLAS, John William Henry T.', 1],\n",
              " ['BAKER, Reginald L.', 1],\n",
              " ['LAPIZE, Octave', 1],\n",
              " ['BARTLETT, Charles Henry', 1],\n",
              " ['DENNY, Arthur', 1],\n",
              " ['ANDERSON, William', 1],\n",
              " ['ANDREWS, Walter', 1],\n",
              " ['MCCARTHY, Frederick', 1],\n",
              " ['MORTON, William', 1],\n",
              " ['JONES, Benjamin', 3],\n",
              " ['KINGSBURY, Clarence Brickwood', 2],\n",
              " ['MEREDITH, Leonard Lewis', 2],\n",
              " ['PAYNE, Ernest', 1],\n",
              " ['GÖTZE, Max', 1],\n",
              " ['KATZER, Rudolf', 1],\n",
              " ['MARTENS, Herman', 1],\n",
              " ['NEUMER, Karl', 2],\n",
              " ['BROOKS, Colin', 1],\n",
              " ['ISAACS, Walter H.T.', 1],\n",
              " ['AUFFRAY, André', 2],\n",
              " ['SCHILLES, Maurice', 2],\n",
              " ['HAMLIN, Frederick G.', 1],\n",
              " ['JOHNSON, Horace Thomas', 3],\n",
              " ['WERBROECK, Joseph', 1],\n",
              " ['JOHNSON, Victor Louis', 1],\n",
              " ['DEMANGEL, Emile', 1],\n",
              " ['OLIVIER, Eugène Victor', 2],\n",
              " ['ALIBERT, Gaston', 2],\n",
              " ['LIPPMANN, Alexandre', 4],\n",
              " ['ANSPACH, Paul', 5],\n",
              " ['BEURAIN, Désiré', 2],\n",
              " ['DE MONTIGNY, Fernand', 6],\n",
              " ['FEYERICK, Ferdinand', 1],\n",
              " ['ROM, François', 2],\n",
              " ['BERGER, Henri-Georges', 1],\n",
              " ['COLLIGNON, Charles', 1],\n",
              " ['DANIELL, Charles Leaf', 1],\n",
              " ['HAIG, Cecil Henry', 1],\n",
              " ['HOLT, Martin Drummond', 2],\n",
              " ['MONTGOMERIE, Robert Cecil', 2],\n",
              " ['GOPPOLD DE LOBSDORF, Vilem', 2],\n",
              " ['FUCHS, Jenö', 4],\n",
              " ['ZULAWSKY, Béla', 1],\n",
              " ['LADA, Vlastimil', 1],\n",
              " ['SCHEJBAL, Bedrich', 1],\n",
              " ['TUCEK, Frantisek', 1],\n",
              " ['GERDE, Oskar', 2],\n",
              " ['TOTH, Peter', 2],\n",
              " ['WERKNER, Lajos', 2],\n",
              " ['BERTINETTI, Marcello', 3],\n",
              " ['NOWAK, Riccardo', 1],\n",
              " ['OLIVIER, Abelardo', 1],\n",
              " ['PIRZIO BIROLI, Alessandro', 1],\n",
              " ['BREUWKES, Reinier Bertus', 1],\n",
              " ['DE BRUYN KOPS, George François', 1],\n",
              " ...]"
            ]
          },
          "metadata": {},
          "execution_count": 123
        }
      ]
    },
    {
      "cell_type": "code",
      "metadata": {
        "colab": {
          "base_uri": "https://localhost:8080/",
          "height": 206
        },
        "id": "7xT4B4TLKD9z",
        "outputId": "966080f6-9213-4add-bdaf-d9a9628c4468"
      },
      "source": [
        "pd.DataFrame(lst, columns=['Athlete', 'ct']).sort_values(by='ct', ascending=False).head()"
      ],
      "execution_count": null,
      "outputs": [
        {
          "output_type": "execute_result",
          "data": {
            "text/html": [
              "<div>\n",
              "<style scoped>\n",
              "    .dataframe tbody tr th:only-of-type {\n",
              "        vertical-align: middle;\n",
              "    }\n",
              "\n",
              "    .dataframe tbody tr th {\n",
              "        vertical-align: top;\n",
              "    }\n",
              "\n",
              "    .dataframe thead th {\n",
              "        text-align: right;\n",
              "    }\n",
              "</style>\n",
              "<table border=\"1\" class=\"dataframe\">\n",
              "  <thead>\n",
              "    <tr style=\"text-align: right;\">\n",
              "      <th></th>\n",
              "      <th>Athlete</th>\n",
              "      <th>ct</th>\n",
              "    </tr>\n",
              "  </thead>\n",
              "  <tbody>\n",
              "    <tr>\n",
              "      <th>18640</th>\n",
              "      <td>PHELPS, Michael</td>\n",
              "      <td>22</td>\n",
              "    </tr>\n",
              "    <tr>\n",
              "      <th>7197</th>\n",
              "      <td>LATYNINA, Larisa</td>\n",
              "      <td>18</td>\n",
              "    </tr>\n",
              "    <tr>\n",
              "      <th>9948</th>\n",
              "      <td>ANDRIANOV, Nikolay</td>\n",
              "      <td>15</td>\n",
              "    </tr>\n",
              "    <tr>\n",
              "      <th>6591</th>\n",
              "      <td>ONO, Takashi</td>\n",
              "      <td>13</td>\n",
              "    </tr>\n",
              "    <tr>\n",
              "      <th>5103</th>\n",
              "      <td>MANGIAROTTI, Edoardo</td>\n",
              "      <td>13</td>\n",
              "    </tr>\n",
              "  </tbody>\n",
              "</table>\n",
              "</div>"
            ],
            "text/plain": [
              "                    Athlete  ct\n",
              "18640       PHELPS, Michael  22\n",
              "7197       LATYNINA, Larisa  18\n",
              "9948     ANDRIANOV, Nikolay  15\n",
              "6591           ONO, Takashi  13\n",
              "5103   MANGIAROTTI, Edoardo  13"
            ]
          },
          "metadata": {},
          "execution_count": 124
        }
      ]
    },
    {
      "cell_type": "code",
      "metadata": {
        "colab": {
          "base_uri": "https://localhost:8080/",
          "height": 459
        },
        "id": "Igs1pEoo3Cpt",
        "outputId": "23fb312e-146c-4df9-ab64-3fa2ce80267f"
      },
      "source": [
        ".pd.DataFrame(lst, columns=['Athlete', 'ct']).sort_values(by='ct', ascending=False).head().plot(x='Athlete',y='ct',kind='bar',figsize=(15,5))"
      ],
      "execution_count": null,
      "outputs": [
        {
          "output_type": "execute_result",
          "data": {
            "text/plain": [
              "<matplotlib.axes._subplots.AxesSubplot at 0x7f8d8de21510>"
            ]
          },
          "metadata": {},
          "execution_count": 77
        },
        {
          "output_type": "display_data",
          "data": {
            "image/png": "[encoded data removed]",
            "text/plain": [
              "<Figure size 1080x360 with 1 Axes>"
            ]
          },
          "metadata": {
            "needs_background": "light"
          }
        }
      ]
    },
    {
      "cell_type": "markdown",
      "metadata": {
        "id": "ub8XK0wY49GP"
      },
      "source": [
        "###5. Which player has won most number Gold Medals of medals? (Top 5)"
      ]
    },
    {
      "cell_type": "code",
      "metadata": {
        "id": "RQiGSINBPtKU"
      },
      "source": [
        "df = pd.read_csv(\"summer.csv\")\n",
        "lst=[]\n",
        "df=df[df['Medal']=='Gold']\n",
        "athlete=df['Athlete'].unique()\n",
        "data = df.values\n",
        "for i in athlete:\n",
        "  medal = 0\n",
        "  for j in range (len(df)):\n",
        "    if (data[j][4]== i):\n",
        "      medal+=1\n",
        "  lst.append([i,medal])"
      ],
      "execution_count": null,
      "outputs": []
    },
    {
      "cell_type": "code",
      "metadata": {
        "colab": {
          "base_uri": "https://localhost:8080/"
        },
        "id": "snsQcPBpQC-n",
        "outputId": "fdf290e9-71e4-42b2-a750-853fea7d4fc9"
      },
      "source": [
        "print(f\"Top 5 Players with Highest Gold Medal :\\n\\n{pd.DataFrame(lst,columns=['Players','Medals']).sort_values(by='Medals', ascending = False).head()}\")"
      ],
      "execution_count": null,
      "outputs": [
        {
          "output_type": "stream",
          "name": "stdout",
          "text": [
            "Top 5 Players with Highest Gold Medal :\n",
            "\n",
            "               Players  Medals\n",
            "6851   PHELPS, Michael      18\n",
            "3320       SPITZ, Mark       9\n",
            "2714  LATYNINA, Larisa       9\n",
            "4630       LEWIS, Carl       9\n",
            "907       NURMI, Paavo       9\n"
          ]
        }
      ]
    },
    {
      "cell_type": "code",
      "metadata": {
        "colab": {
          "base_uri": "https://localhost:8080/",
          "height": 427
        },
        "id": "FghuvVh4QJZ0",
        "outputId": "4c28df06-fe24-41e4-9e90-b4b99080cf42"
      },
      "source": [
        "pd.DataFrame(lst,columns=['Players','Medals']).sort_values(by='Medals', ascending = False).head().plot(x='Players',y='Medals',kind='bar',figsize=(15,5))"
      ],
      "execution_count": null,
      "outputs": [
        {
          "output_type": "execute_result",
          "data": {
            "text/plain": [
              "<matplotlib.axes._subplots.AxesSubplot at 0x7f8d8b5b0710>"
            ]
          },
          "metadata": {},
          "execution_count": 135
        },
        {
          "output_type": "display_data",
          "data": {
            "image/png": "[encoded data removed]",
            "text/plain": [
              "<Figure size 1080x360 with 1 Axes>"
            ]
          },
          "metadata": {
            "needs_background": "light"
          }
        }
      ]
    },
    {
      "cell_type": "markdown",
      "metadata": {
        "id": "iwQWqPuA_VIB"
      },
      "source": [
        "###6. In which year India won first Gold Medal in Summer Olympics?"
      ]
    },
    {
      "cell_type": "code",
      "metadata": {
        "colab": {
          "base_uri": "https://localhost:8080/"
        },
        "id": "PAslgdusQW0j",
        "outputId": "54089a49-93e3-4b54-e00d-e27a6ad22d8f"
      },
      "source": [
        "df = pd.read_csv(\"summer.csv\")\n",
        "df=df[df['Country']=='IND']\n",
        "df=df[df['Medal']=='Gold']\n",
        "df=df.head(1)\n",
        "data=df.values\n",
        "print(f\"India won first Gold Medal in Summer Olympics in year {data[0][0]}\")"
      ],
      "execution_count": null,
      "outputs": [
        {
          "output_type": "stream",
          "name": "stdout",
          "text": [
            "India won first Gold Medal in Summer Olympics in year 1928\n"
          ]
        }
      ]
    },
    {
      "cell_type": "markdown",
      "metadata": {
        "id": "Ih1HIYHkBGDh"
      },
      "source": [
        "###7. Which event is most popular in terms on number of players? (Top 5)"
      ]
    },
    {
      "cell_type": "code",
      "metadata": {
        "id": "e7LijqffQbi0"
      },
      "source": [
        "df = pd.read_csv(\"summer.csv\")\n",
        "lst=[]\n",
        "sports=df['Event'].unique()\n",
        "data = df.values\n",
        "for i in sports:\n",
        "  player = 0\n",
        "  for j in range (len(df)):\n",
        "    if (data[j][7]== i):\n",
        "      player+=1\n",
        "  lst.append([i,player])"
      ],
      "execution_count": null,
      "outputs": []
    },
    {
      "cell_type": "code",
      "metadata": {
        "colab": {
          "base_uri": "https://localhost:8080/"
        },
        "id": "mgch74RQQkRZ",
        "outputId": "556ed6e6-89f7-48cc-81c9-097e857e8081"
      },
      "source": [
        "print(f\"Top 5 Most popular events are :\\n\\n{pd.DataFrame(lst,columns=['Events','Players']).sort_values(by='Players', ascending = False).head()}\")"
      ],
      "execution_count": null,
      "outputs": [
        {
          "output_type": "stream",
          "name": "stdout",
          "text": [
            "Top 5 Most popular events are :\n",
            "\n",
            "               Events  Players\n",
            "80           Football     1497\n",
            "176            Hockey     1422\n",
            "138  Team Competition     1147\n",
            "327        Basketball     1012\n",
            "337          Handball      973\n"
          ]
        }
      ]
    },
    {
      "cell_type": "code",
      "metadata": {
        "colab": {
          "base_uri": "https://localhost:8080/",
          "height": 431
        },
        "id": "BHDJaMI1Qw9h",
        "outputId": "4ed56252-b655-4548-bafa-66797d7b8db2"
      },
      "source": [
        "pd.DataFrame(lst,columns=['Events','Players']).sort_values(by='Players', ascending = False).head().plot(x='Events',y='Players',kind='bar',figsize=(15,5))"
      ],
      "execution_count": null,
      "outputs": [
        {
          "output_type": "execute_result",
          "data": {
            "text/plain": [
              "<matplotlib.axes._subplots.AxesSubplot at 0x7f8d8b774750>"
            ]
          },
          "metadata": {},
          "execution_count": 139
        },
        {
          "output_type": "display_data",
          "data": {
            "image/png": "[encoded data removed]",
            "text/plain": [
              "<Figure size 1080x360 with 1 Axes>"
            ]
          },
          "metadata": {
            "needs_background": "light"
          }
        }
      ]
    },
    {
      "cell_type": "markdown",
      "metadata": {
        "id": "XuV6XmupQ4An"
      },
      "source": [
        "###8. Which sport is having most female Gold Medalists? (Top 5)"
      ]
    },
    {
      "cell_type": "code",
      "metadata": {
        "id": "1hn-ZeIsQ5wC"
      },
      "source": [
        "df = pd.read_csv(\"summer.csv\")\n",
        "df=df[df['Gender']=='Women']\n",
        "df=df[df['Medal']=='Gold']\n",
        "sport = df['Sport'].unique()\n",
        "data = df.values\n",
        "for i in sport:\n",
        "  medal= 0\n",
        "  for j in range (len(df)):\n",
        "    if (data[j][2]==i):\n",
        "      medal+=1\n",
        "  lst.append([i,medal])"
      ],
      "execution_count": null,
      "outputs": []
    },
    {
      "cell_type": "code",
      "metadata": {
        "colab": {
          "base_uri": "https://localhost:8080/"
        },
        "id": "BRtdpvG0REcO",
        "outputId": "9ad8f552-62b5-4780-861f-e11d9bc1eda7"
      },
      "source": [
        "print(f\"sport having most female Gold Medalists are :\\n\\n{pd.DataFrame(lst,columns=['Sports','Gold_Medalists']).sort_values(by='Gold_Medalists', ascending = False).head()}\")"
      ],
      "execution_count": null,
      "outputs": [
        {
          "output_type": "stream",
          "name": "stdout",
          "text": [
            "sport having most female Gold Medalists are :\n",
            "\n",
            "               Sports  Gold_Medalists\n",
            "80           Football            1497\n",
            "176            Hockey            1422\n",
            "138  Team Competition            1147\n",
            "327        Basketball            1012\n",
            "337          Handball             973\n"
          ]
        }
      ]
    },
    {
      "cell_type": "code",
      "metadata": {
        "colab": {
          "base_uri": "https://localhost:8080/",
          "height": 431
        },
        "id": "GWtKeNyzRMKi",
        "outputId": "a795b2e3-3f95-4aa3-f0f6-f727fde9c6ac"
      },
      "source": [
        "pd.DataFrame(lst,columns=['Sports','Gold_Medalists']).sort_values(by='Gold_Medalists', ascending = False).head().plot(x='Sports',y='Gold_Medalists',kind='bar',figsize=(15,5))"
      ],
      "execution_count": null,
      "outputs": [
        {
          "output_type": "execute_result",
          "data": {
            "text/plain": [
              "<matplotlib.axes._subplots.AxesSubplot at 0x7f8d8b539310>"
            ]
          },
          "metadata": {},
          "execution_count": 142
        },
        {
          "output_type": "display_data",
          "data": {
            "image/png": "[encoded data removed]",
            "text/plain": [
              "<Figure size 1080x360 with 1 Axes>"
            ]
          },
          "metadata": {
            "needs_background": "light"
          }
        }
      ]
    }
  ]
}